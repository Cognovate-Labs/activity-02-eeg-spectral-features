{
 "cells": [
  {
   "cell_type": "markdown",
   "id": "4f1a698d-ea8d-4d70-802c-1b6cff86c39b",
   "metadata": {},
   "source": [
    "# EEG Spectral Features\n",
    "\n",
    "This activity will go over some basics for Spectral Features. This activity will be utilizing the Acute Stroke dataset.\n",
    "\n",
    "**Note: Don't be lazy and label your plots!**"
   ]
  },
  {
   "cell_type": "code",
   "execution_count": 1,
   "id": "695d48c6-1551-49c7-b6da-0d8eb45d5087",
   "metadata": {},
   "outputs": [],
   "source": [
    "import os\n",
    "import numpy as np\n",
    "import scipy\n",
    "import matplotlib.pyplot as plt\n",
    "\n",
    "from helpers import EEGDataloader\n",
    "\n",
    "np.random.seed(10)"
   ]
  },
  {
   "cell_type": "markdown",
   "id": "ef8bb278-b833-44d2-a8ba-3ec74f83fb60",
   "metadata": {},
   "source": [
    "## Download Acute Stroke Dataset\n",
    "\n",
    "You can download the dataset from our [Google Drive](https://drive.google.com/drive/u/1/folders/1PrNQfDDpromsztwBm9hbCWtqXS7oXcKP)"
   ]
  },
  {
   "cell_type": "code",
   "execution_count": 2,
   "id": "9172e5be-4e84-40c0-9edb-818debf5beb2",
   "metadata": {},
   "outputs": [],
   "source": [
    "data_path = '<insert-acute-stroke-sourcedata-path>'\n",
    "\n",
    "loader = EEGDataloader(data_path)"
   ]
  },
  {
   "cell_type": "code",
   "execution_count": 3,
   "id": "5699f02d-4713-4ea6-9112-2fc4ea9601e4",
   "metadata": {},
   "outputs": [],
   "source": [
    "# Subject number\n",
    "    # Note: You are welcome to change this subject number\n",
    "subj_ind = 1\n",
    "\n",
    "# get eeg data and labels corresponding to trials\n",
    "    # eeg: (time-samples-around-trigger-event, channels, trials)\n",
    "    # label: (hand-label-to-corresponding-trial-index)\n",
    "eeg, label = loader.get_subject_data(subj_ind)\n",
    "\n",
    "# slice for trials based on left and right hands\n",
    "eeg_data_left = loader.get_trials_by_label(1) # (time-samples-around-trigger-event, channels, trials)\n",
    "eeg_data_right = loader.get_trials_by_label(2) # (time-samples-around-trigger-event, channels, trials)"
   ]
  },
  {
   "cell_type": "markdown",
   "id": "6e9df20e-ea9c-44b9-bda0-707db5fac7f5",
   "metadata": {},
   "source": [
    "## Understand what this dataset consists of\n",
    "\n",
    "Reference the paper from the Google Drive to better understand what this dataset consists of and how it is structured. "
   ]
  },
  {
   "cell_type": "code",
   "execution_count": null,
   "id": "6ace7294-ea32-45bb-9cd5-513a26ea379a",
   "metadata": {},
   "outputs": [],
   "source": []
  },
  {
   "cell_type": "markdown",
   "id": "7ff0008c-514a-417a-a1c9-258d2399beae",
   "metadata": {},
   "source": [
    "## Applying a Bandpass filter\n",
    "\n",
    "Often in signal processing a system could collect unwanted noise. A common technique is to apply a bandpass filter. Implement the function below to filter the raw EEG signal.\n",
    "\n",
    "Plot the raw EEG signal and compare it to a filtered EEG signal. You are welcome to change the `config` if needed."
   ]
  },
  {
   "cell_type": "code",
   "execution_count": null,
   "id": "dd458115-24e4-4b94-b7c7-c61ba8f6e37e",
   "metadata": {},
   "outputs": [],
   "source": [
    "config = {\n",
    "    'sample_rate': 500,\n",
    "    'lower': 8,\n",
    "    'higher': 30,\n",
    "    'butter_order': 2,\n",
    "    'smooth_param': 200\n",
    "}\n",
    "\n",
    "def filter_signal(raw_signal, config):\n",
    "    raise NotImplementedError"
   ]
  },
  {
   "cell_type": "code",
   "execution_count": null,
   "id": "df9add9a-b7cc-4c72-aabc-b26601400483",
   "metadata": {},
   "outputs": [],
   "source": [
    "# EEG signal from single channel and single trial\n",
    "test_signal = eeg[:,0,0]\n",
    "\n",
    "filtered_test_signal = filter_signal(test_signal, config)"
   ]
  },
  {
   "cell_type": "markdown",
   "id": "c7d29942-a95a-40ae-8d52-68343fe96a48",
   "metadata": {},
   "source": [
    "## Frequency Bands\n",
    "\n",
    "Using our filtered test signal plot the filtered signal and plot its frequency bands."
   ]
  },
  {
   "cell_type": "code",
   "execution_count": null,
   "id": "86d37afe-e7df-4dc7-aa96-a5fcc22267a6",
   "metadata": {},
   "outputs": [],
   "source": [
    "# Define frequency bands\n",
    "bands = {\n",
    "    'Gamma': (30, 100),\n",
    "    'Beta':  (12, 30),\n",
    "    'Alpha': (8, 12),\n",
    "    'Theta': (4, 8),\n",
    "    'Delta': (0.5, 4),\n",
    "}"
   ]
  },
  {
   "cell_type": "code",
   "execution_count": null,
   "id": "becc4f30-1f65-46df-9c1d-c8ad67ece7b9",
   "metadata": {},
   "outputs": [],
   "source": []
  },
  {
   "cell_type": "markdown",
   "id": "2cc967e7-23b9-4425-9232-e3b71a016a6b",
   "metadata": {},
   "source": [
    "## Power Spectral Density\n",
    "\n",
    "Power Spectral Density(PSD) transforms your signal into the frequency domain. In this representation power (energy) from an EEG signal could be computed for each frequency.\n",
    "\n",
    "Use the filtered test signal to compute PSD and plot."
   ]
  },
  {
   "cell_type": "code",
   "execution_count": null,
   "id": "d5fc2ce2-7919-482b-b182-0cb83a40072b",
   "metadata": {},
   "outputs": [],
   "source": []
  },
  {
   "cell_type": "markdown",
   "id": "a9ac3bdf-ff7c-40c9-9ea4-d156ee56fa2a",
   "metadata": {},
   "source": [
    "## Relative Power and Band Ratios\n",
    "\n",
    "Compute the following:\n",
    "\n",
    "**1. Relative delta**\n",
    "$$\\text{Relative delta} = \\frac{P_\\delta}{P_{total}}$$\n",
    "\n",
    "   \n",
    "$$\\text{where } P_\\delta: \\text{Power in the delta band}$$\n",
    "   \n",
    "$$P_{total}: \\text{Total power}$$\n",
    "   \n",
    "**2. Relative theta**\n",
    "$$\\text{Relative theta} = \\frac{P_\\theta}{P_{total}}$$\n",
    "\n",
    "   \n",
    "$$\\text{where } P_\\theta: \\text{Power in the theta band}$$\n",
    "   \n",
    "$$P_{total}: \\text{Total power}$$\n",
    "\n",
    "**4. Relative alpha**\n",
    "$$\\text{Relative alpha} = \\frac{P_\\alpha}{P_{total}}$$\n",
    "\n",
    "   \n",
    "$$\\text{where } P_\\alpha: \\text{Power in the alpha band}$$\n",
    "   \n",
    "$$P_{total}: \\text{Total power}$$\n",
    "\n",
    "**5. Delta-alpha ratio**\n",
    "$$\\text{Delta-alpha ratio} = \\frac{P_\\delta}{P_\\alpha}$$\n",
    "\n",
    "   \n",
    "$$\\text{where } P_\\delta: \\text{Power in the delta band}$$\n",
    "   \n",
    "$$P_\\alpha: \\text{Power in the alpha band}$$\n",
    "\n",
    "**6. Theta-alpha ratio**\n",
    "$$\\text{Theta-alpha ratio} = \\frac{P_\\theta}{P_\\alpha}$$\n",
    "\n",
    "   \n",
    "$$\\text{where } P_\\theta: \\text{Power in the theta band}$$\n",
    "   \n",
    "$$P_\\alpha: \\text{Power in the alpha band}$$"
   ]
  },
  {
   "cell_type": "code",
   "execution_count": null,
   "id": "71551c59-21fa-4369-862c-96c675e3e4ea",
   "metadata": {},
   "outputs": [],
   "source": []
  },
  {
   "cell_type": "markdown",
   "id": "5dceaaaa-e2ae-4769-8b2f-edaf14a3faf1",
   "metadata": {},
   "source": [
    "## Averaging Across Trials\n",
    "\n",
    "Now that we understand the fundamentals for a single channel signal and single trial. What about the rest of the collected trial data and the other channels?\n",
    "\n",
    "Compute relative power and band ratios for each channel across all the trials.\n",
    "\n",
    "**Suggestion:** Write functions to capture some of these processes.\n",
    "\n",
    "**Pro tip:** Remember if you ever catch yourself copying and pasting code. Your being lazy!!!!"
   ]
  },
  {
   "cell_type": "code",
   "execution_count": null,
   "id": "53055788-68a9-4722-84af-ec1ff6ff22bd",
   "metadata": {},
   "outputs": [],
   "source": []
  }
 ],
 "metadata": {
  "kernelspec": {
   "display_name": "cognovateWorkshopEnv",
   "language": "python",
   "name": "cognovateworkshopenv"
  },
  "language_info": {
   "codemirror_mode": {
    "name": "ipython",
    "version": 3
   },
   "file_extension": ".py",
   "mimetype": "text/x-python",
   "name": "python",
   "nbconvert_exporter": "python",
   "pygments_lexer": "ipython3",
   "version": "3.9.23"
  }
 },
 "nbformat": 4,
 "nbformat_minor": 5
}
